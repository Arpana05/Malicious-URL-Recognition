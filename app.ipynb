{
 "cells": [
  {
   "cell_type": "code",
   "execution_count": 4,
   "id": "c51000c0",
   "metadata": {},
   "outputs": [],
   "source": [
    "import streamlit as st\n",
    "import pickle\n",
    "import numpy as np\n",
    "\n",
    "# Load the trained model\n",
    "model = pickle.load(open('C:/Users/LENOVO/Documents/MajorProjectJupyter/Malicious_URL_Detection/models/model.pkl', 'rb'))\n",
    "\n",
    "def predict(features):\n",
    "    try:\n",
    "        # Make a prediction using the loaded model\n",
    "        prediction = model.predict([features])[0]\n",
    "\n",
    "        # Map the numeric prediction to a human-readable label\n",
    "        if prediction == 0:\n",
    "            result = 'MALICIOUS'\n",
    "        elif prediction == 1:\n",
    "            result = 'BENIGN'\n",
    "\n",
    "        return result\n",
    "    except Exception as e:\n",
    "        return f'Error: {str(e)}'\n",
    "\n",
    "def main():\n",
    "    # Display the title\n",
    "    st.title('Malicious URL Recognition')\n",
    "\n",
    "    # Get user input from the Streamlit app\n",
    "    features = [\n",
    "        st.number_input('Feature 1', value=0.0),\n",
    "        st.number_input('Feature 2', value=0.0),\n",
    "    ]\n",
    "\n",
    "    # Make a prediction using the loaded model\n",
    "    result = predict(features)\n",
    "\n",
    "    # Display the prediction result\n",
    "    st.write(f'The URL is predicted as {result}')\n",
    "\n",
    "if __name__ == '__main__':\n",
    "    main()\n"
   ]
  },
  {
   "cell_type": "code",
   "execution_count": null,
   "id": "7e9636a4",
   "metadata": {},
   "outputs": [],
   "source": []
  }
 ],
 "metadata": {
  "kernelspec": {
   "display_name": "Python 3 (ipykernel)",
   "language": "python",
   "name": "python3"
  },
  "language_info": {
   "codemirror_mode": {
    "name": "ipython",
    "version": 3
   },
   "file_extension": ".py",
   "mimetype": "text/x-python",
   "name": "python",
   "nbconvert_exporter": "python",
   "pygments_lexer": "ipython3",
   "version": "3.10.9"
  }
 },
 "nbformat": 4,
 "nbformat_minor": 5
}
